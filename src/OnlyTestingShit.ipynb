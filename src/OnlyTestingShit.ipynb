{
 "cells": [
  {
   "cell_type": "code",
   "execution_count": 2,
   "metadata": {},
   "outputs": [],
   "source": [
    "import numpy as np"
   ]
  },
  {
   "cell_type": "code",
   "execution_count": 38,
   "metadata": {},
   "outputs": [
    {
     "data": {
      "text/plain": [
       "(3, 10, 3, 2)"
      ]
     },
     "execution_count": 38,
     "metadata": {},
     "output_type": "execute_result"
    }
   ],
   "source": [
    "n = 6\n",
    "np.zeros( (3, 2*(n - 1), n//2, 2) ).shape"
   ]
  },
  {
   "cell_type": "code",
   "execution_count": 56,
   "metadata": {},
   "outputs": [
    {
     "name": "stdout",
     "output_type": "stream",
     "text": [
      "Block 1:\n",
      "+--------+--------+--------+--------+--------+\n",
      "| 0 vs 0 | 0 vs 0 | 0 vs 0 | 0 vs 0 | 0 vs 0 |\n",
      "+--------+--------+--------+--------+--------+\n",
      "| 0 vs 0 | 0 vs 0 | 0 vs 0 | 0 vs 0 | 0 vs 0 |\n",
      "+--------+--------+--------+--------+--------+\n",
      "| 0 vs 0 | 0 vs 0 | 0 vs 0 | 0 vs 0 | 0 vs 0 |\n",
      "+--------+--------+--------+--------+--------+\n",
      "| 0 vs 0 | 0 vs 0 | 0 vs 0 | 0 vs 0 | 0 vs 0 |\n",
      "+--------+--------+--------+--------+--------+\n",
      "| 0 vs 0 | 0 vs 0 | 0 vs 0 | 0 vs 0 | 0 vs 0 |\n",
      "+--------+--------+--------+--------+--------+\n",
      "| 0 vs 0 | 0 vs 0 | 0 vs 0 | 0 vs 0 | 0 vs 0 |\n",
      "+--------+--------+--------+--------+--------+\n",
      "| 0 vs 0 | 0 vs 0 | 0 vs 0 | 0 vs 0 | 0 vs 0 |\n",
      "+--------+--------+--------+--------+--------+\n",
      "| 0 vs 0 | 0 vs 0 | 0 vs 0 | 0 vs 0 | 0 vs 0 |\n",
      "+--------+--------+--------+--------+--------+\n",
      "| 0 vs 0 | 0 vs 0 | 0 vs 0 | 0 vs 0 | 0 vs 0 |\n",
      "+--------+--------+--------+--------+--------+\n",
      "| 0 vs 0 | 0 vs 0 | 0 vs 0 | 0 vs 0 | 0 vs 0 |\n",
      "+--------+--------+--------+--------+--------+\n",
      "\n",
      "\n",
      "Block 2:\n",
      "+--------+--------+--------+--------+--------+\n",
      "| 0 vs 0 | 0 vs 0 | 0 vs 0 | 0 vs 0 | 0 vs 0 |\n",
      "+--------+--------+--------+--------+--------+\n",
      "| 0 vs 0 | 0 vs 0 | 0 vs 0 | 0 vs 0 | 0 vs 0 |\n",
      "+--------+--------+--------+--------+--------+\n",
      "| 0 vs 0 | 0 vs 0 | 0 vs 0 | 0 vs 0 | 0 vs 0 |\n",
      "+--------+--------+--------+--------+--------+\n",
      "| 0 vs 0 | 0 vs 0 | 0 vs 0 | 0 vs 0 | 0 vs 0 |\n",
      "+--------+--------+--------+--------+--------+\n",
      "| 0 vs 0 | 0 vs 0 | 0 vs 0 | 0 vs 0 | 0 vs 0 |\n",
      "+--------+--------+--------+--------+--------+\n",
      "| 0 vs 0 | 0 vs 0 | 0 vs 0 | 0 vs 0 | 0 vs 0 |\n",
      "+--------+--------+--------+--------+--------+\n",
      "| 0 vs 0 | 0 vs 0 | 0 vs 0 | 0 vs 0 | 0 vs 0 |\n",
      "+--------+--------+--------+--------+--------+\n",
      "| 0 vs 0 | 0 vs 0 | 0 vs 0 | 0 vs 0 | 0 vs 0 |\n",
      "+--------+--------+--------+--------+--------+\n",
      "| 0 vs 0 | 0 vs 0 | 0 vs 0 | 0 vs 0 | 0 vs 0 |\n",
      "+--------+--------+--------+--------+--------+\n",
      "| 0 vs 0 | 0 vs 0 | 0 vs 0 | 0 vs 0 | 0 vs 0 |\n",
      "+--------+--------+--------+--------+--------+\n",
      "\n",
      "\n",
      "Block 3:\n",
      "+--------+--------+--------+--------+--------+\n",
      "| 0 vs 0 | 0 vs 0 | 0 vs 0 | 0 vs 0 | 0 vs 0 |\n",
      "+--------+--------+--------+--------+--------+\n",
      "| 0 vs 0 | 0 vs 0 | 0 vs 0 | 0 vs 0 | 0 vs 0 |\n",
      "+--------+--------+--------+--------+--------+\n",
      "| 0 vs 0 | 0 vs 0 | 0 vs 0 | 0 vs 0 | 0 vs 0 |\n",
      "+--------+--------+--------+--------+--------+\n",
      "| 0 vs 0 | 0 vs 0 | 0 vs 0 | 0 vs 0 | 0 vs 0 |\n",
      "+--------+--------+--------+--------+--------+\n",
      "| 0 vs 0 | 0 vs 0 | 0 vs 0 | 0 vs 0 | 0 vs 0 |\n",
      "+--------+--------+--------+--------+--------+\n",
      "| 0 vs 0 | 0 vs 0 | 0 vs 0 | 0 vs 0 | 0 vs 0 |\n",
      "+--------+--------+--------+--------+--------+\n",
      "| 0 vs 0 | 0 vs 0 | 0 vs 0 | 0 vs 0 | 0 vs 0 |\n",
      "+--------+--------+--------+--------+--------+\n",
      "| 0 vs 0 | 0 vs 0 | 0 vs 0 | 0 vs 0 | 0 vs 0 |\n",
      "+--------+--------+--------+--------+--------+\n",
      "| 0 vs 0 | 0 vs 0 | 0 vs 0 | 0 vs 0 | 0 vs 0 |\n",
      "+--------+--------+--------+--------+--------+\n",
      "| 0 vs 0 | 0 vs 0 | 0 vs 0 | 0 vs 0 | 0 vs 0 |\n",
      "+--------+--------+--------+--------+--------+\n",
      "\n",
      "\n"
     ]
    }
   ],
   "source": [
    "import numpy as np\n",
    "from tabulate import tabulate\n",
    "\n",
    "# Create an example array with shape (3, 10, 5, 2)\n",
    "example_array = np.zeros( (3, 10, 5, 2), dtype=int )\n",
    "\n",
    "# Convert the last dimension to strings and concatenate\n",
    "formatted_array = np.apply_along_axis(lambda x: ' vs '.join(map(str, x)), 3, example_array)\n",
    "\n",
    "# Print the formatted array using tabulate\n",
    "for i in range(formatted_array.shape[0]):\n",
    "    print(f\"Block {i + 1}:\")\n",
    "    print(tabulate(formatted_array[i], tablefmt=\"grid\"))\n",
    "    print(\"\\n\")"
   ]
  },
  {
   "cell_type": "code",
   "execution_count": 74,
   "metadata": {},
   "outputs": [
    {
     "data": {
      "text/plain": [
       "array([1, 0])"
      ]
     },
     "execution_count": 74,
     "metadata": {},
     "output_type": "execute_result"
    }
   ],
   "source": [
    "test = np.array([\n",
    "  [ \n",
    "      [ [0,1],[0,0],[0,0] ], \n",
    "      [ [0,2],[0,0],[0,0] ],\n",
    "      [ [0,0],[0,0],[0,0] ],\n",
    "      [ [0,0],[0,0],[0,0] ],\n",
    "      [ [0,0],[0,0],[0,0] ],\n",
    "      [ [0,0],[0,0],[0,0] ],\n",
    "      [ [0,3],[0,0],[0,0] ],\n",
    "      [ [0,0],[0,0],[0,0] ],\n",
    "      [ [0,0],[0,0],[0,0] ],\n",
    "      [ [0,0],[0,0],[0,0] ] \n",
    "  ],\n",
    "  [ \n",
    "      [ [0,0],[0,0],[0,0] ], \n",
    "      [ [0,0],[0,0],[0,0] ],\n",
    "      [ [0,0],[0,0],[0,0] ],\n",
    "      [ [0,0],[0,0],[0,0] ],\n",
    "      [ [0,0],[0,0],[0,0] ],\n",
    "      [ [0,0],[0,0],[0,0] ],\n",
    "      [ [0,0],[0,0],[0,0] ],\n",
    "      [ [0,0],[0,0],[0,0] ],\n",
    "      [ [0,0],[0,0],[0,0] ],\n",
    "      [ [0,0],[0,0],[0,0] ] \n",
    "  ],\n",
    "  [ \n",
    "      [ [0,0],[0,0],[0,0] ], \n",
    "      [ [0,0],[0,0],[0,0] ],\n",
    "      [ [0,0],[0,0],[0,0] ],\n",
    "      [ [0,0],[0,0],[0,0] ],\n",
    "      [ [0,0],[0,0],[0,0] ],\n",
    "      [ [0,0],[0,0],[0,0] ],\n",
    "      [ [0,0],[0,0],[0,0] ],\n",
    "      [ [0,0],[0,0],[0,0] ],\n",
    "      [ [0,0],[0,0],[0,0] ],\n",
    "      [ [0,0],[0,0],[0,0] ] \n",
    "  ]\n",
    "])\n",
    "\n",
    "# [pW[1] for pW in np.argwhere( (test == [0,0]).all(axis=3) ) if pW[2] == 0 and pW[0] == 0]\n",
    "\n",
    "test[0, 0, 0] = [1, 0]\n",
    "\n",
    "test[0, 0, 0]"
   ]
  },
  {
   "cell_type": "code",
   "execution_count": 84,
   "metadata": {},
   "outputs": [
    {
     "data": {
      "text/plain": [
       "numpy.float64"
      ]
     },
     "execution_count": 84,
     "metadata": {},
     "output_type": "execute_result"
    }
   ],
   "source": [
    "type(np.float64(13) //2)"
   ]
  },
  {
   "cell_type": "code",
   "execution_count": 86,
   "metadata": {},
   "outputs": [
    {
     "name": "stdout",
     "output_type": "stream",
     "text": [
      "['Mon', 'Fri', 'Sat', 'Mon', 'Mon', 'Mon', 'Fri', 'Fri', 'Fri', 'Sat', 'Sat', 'Sat']\n"
     ]
    }
   ],
   "source": [
    "from collections import Counter\n",
    "\n",
    "# Initial list\n",
    "days = ['Mon', 'Fri', 'Sat']\n",
    "\n",
    "# Create a counter for the initial list\n",
    "day_counts = Counter(days)\n",
    "\n",
    "# Ensure each day appears four times\n",
    "target_count = 4\n",
    "result = days + [day for day in day_counts for _ in range(target_count - day_counts[day])]\n",
    "\n",
    "print(result)"
   ]
  },
  {
   "cell_type": "code",
   "execution_count": 143,
   "metadata": {},
   "outputs": [
    {
     "data": {
      "text/plain": [
       "True"
      ]
     },
     "execution_count": 143,
     "metadata": {},
     "output_type": "execute_result"
    }
   ],
   "source": [
    "import numpy as np\n",
    "\n",
    "test = np.array([\n",
    "    [\n",
    "        [-1, 2, 3, 4], \n",
    "        [6, -1, 7, 3],\n",
    "        [6, 3, -1, 3],\n",
    "        [6, 3, 9, -1]\n",
    "    ],\n",
    "    [\n",
    "        [-1, 2, 3, 4], \n",
    "        [6, -1, 7, 3],\n",
    "        [6, 3, -1, 3],\n",
    "        [6, 3, 9, -1]\n",
    "    ]\n",
    "])\n",
    "\n",
    "-1 in test[0, 0]"
   ]
  },
  {
   "cell_type": "code",
   "execution_count": 9,
   "metadata": {},
   "outputs": [
    {
     "name": "stdout",
     "output_type": "stream",
     "text": [
      "List time: 3.801514 seconds\n",
      "Deque time: 2.575721 seconds\n",
      "NumPy time: 3.520673 seconds\n"
     ]
    }
   ],
   "source": [
    "        while len(self.allMatches) != 0:\n",
    "            idxMaxMatches = self.p.argsort()[::-1]\n",
    "            idxMaxMatch = idxMaxMatches[0]\n",
    "\n",
    "            weekDay, t1, t2 = np.unravel_index(idxMaxMatch, (3, self.n, self.n))\n",
    "            print(weekDay, t1, t2)\n",
    "\n",
    "            if weekDay == 0:\n",
    "                freeWeeks = [pW[1] for pW in np.argwhere( (self.solution == [0,0]).any(axis=2) ) if pW[0] == weekDay and pW[2] == 0]\n",
    "            else:                \n",
    "                freeWeeks = [pW[1] for pW in np.argwhere( (self.solution == [0,0]).any(axis=2) ) if pW[0] != weekDay]\n",
    "\n",
    "            for week in freeWeeks:\n",
    "                \n",
    "                if (t1 in self.solution[weekDay, week]) or (t2 in self.solution[weekDay, week]):\n",
    "                    continue\n",
    "\n",
    "                bestGreedyWeek = week\n",
    "\n",
    "# \n",
    "            self.solution[weekDay, bestGreedyWeek, 0] = [t1+1, t2+1]\n",
    "            self.p[idxMaxMatch] = -1\n",
    "            self.allMatches.discard((t1+1, t2+1))\n",
    "            \n",
    "            print_solution(0, self.solution)"
   ]
  },
  {
   "cell_type": "code",
   "execution_count": 62,
   "metadata": {},
   "outputs": [
    {
     "data": {
      "text/plain": [
       "[0, 1, 2, 3, 4, 5, 6, 7, 8, 9]"
      ]
     },
     "execution_count": 62,
     "metadata": {},
     "output_type": "execute_result"
    }
   ],
   "source": [
    "def get_incomplete_weeks(solution, n):\n",
    "    incomplete_weeks = []\n",
    "    allTeams = set(range(1,n+1))\n",
    "    for idx_week, week in enumerate(solution.transpose(1,0,2,3)):\n",
    "        idx_teams = np.where(week.flatten() != 0)\n",
    "        teams = set(week.flatten()[idx_teams])\n",
    "        if not allTeams.issubset(teams):\n",
    "            incomplete_weeks.append(idx_week)\n",
    "\n",
    "    return incomplete_weeks\n",
    "\n",
    "# Beispielaufruf\n",
    "n_teams = 6  # Anzahl der Teams\n",
    "n_weeks = 10  # Anzahl der Wochen\n",
    "t = 2  # Maximal 2 Spiele pro Freitag/Samstag\n",
    "solution = np.zeros((3, n_weeks, t, 2), dtype=int)\n",
    "\n",
    "# Beispiel: In Woche 0 spielen die Teams 1 und 5 gegeneinander am Montag\n",
    "solution[0, 0, 0] = [1, 5]\n",
    "solution[0, 0, 0] = [2, 4]\n",
    "solution[0, 1, 1] = [3, 6]\n",
    "solution[0, 2, 1] = [3, 6]\n",
    "\n",
    "# Unvollständige Wochen und freie Tage\n",
    "free_days_per_week = get_incomplete_weeks(solution, n_teams)\n",
    "# free_days_per_week.keys()\n",
    "# free_days_per_week.values()\n",
    "free_days_per_week\n"
   ]
  },
  {
   "cell_type": "code",
   "execution_count": 21,
   "metadata": {},
   "outputs": [
    {
     "data": {
      "text/plain": [
       "0"
      ]
     },
     "execution_count": 21,
     "metadata": {},
     "output_type": "execute_result"
    }
   ],
   "source": [
    "def fill_incomplete_weeks(self, week, p_shape):\n",
    "        possible_matches = self.get_teams_not_playing(week)\n",
    "        print(list(possible_matches))\n",
    "\n",
    "        matches_with_profits = self.get_profits_of_matches(week, p_shape, possible_matches)\n",
    "\n",
    "        for t1, t2, day, match, _ in matches_with_profits:\n",
    "            if self.solution[day, week, match, 0] == 0:\n",
    "                self.solution[day, week, match] = [t1, t2]\n",
    "                p_shape[day, t1 - 1, t2 - 1] = -1\n",
    "\n",
    "    def get_teams_not_playing(self, week):\n",
    "        all_teams = set(range(1, self.n + 1))\n",
    "        teams_played = {team for day in range(self.solution.shape[0])\n",
    "                            for match in range(self.solution.shape[2])\n",
    "                            for team in self.solution[day, week, match]\n",
    "                            if team != 0}\n",
    "        teams_not_played = all_teams - teams_played\n",
    "        return permutations(teams_not_played, 2)\n",
    "    \n",
    "    def get_profits_of_matches(self, week, p_shape, possible_matches):\n",
    "        profits_matches = [(p_shape[day, t1 - 1, t2 - 1])\n",
    "                        for t1, t2 in possible_matches\n",
    "                        for day in range(0, 2)  # Freitag und Samstag\n",
    "                        for match in range(self.solution.shape[2])\n",
    "                        if self.solution[day, week, match, 0] == 0]\n",
    "        \n",
    "        return profits_matches\n",
    "\n",
    "    def get_incomplete_weeks(self):\n",
    "        free_days_per_week = dict()\n",
    "        for idx_week in range(self.solution.shape[1]):            \n",
    "            for idx_day, day in enumerate(self.solution[:, idx_week, :, :]):\n",
    "                for idx_match, match in enumerate(day):\n",
    "                    if not np.all(match == [0,0]):\n",
    "                        continue\n",
    "                    if idx_match >= 1 and idx_day == 0:\n",
    "                        continue\n",
    "                    free_days_per_week[idx_week] = idx_day\n",
    "        print(free_days_per_week)"
   ]
  },
  {
   "cell_type": "code",
   "execution_count": 69,
   "metadata": {},
   "outputs": [
    {
     "name": "stdout",
     "output_type": "stream",
     "text": [
      "List time: 0.361554 seconds\n",
      "Deque time: 0.250140 seconds\n",
      "NumPy time: 0.341695 seconds\n",
      "Set time: 0.460969 seconds\n"
     ]
    }
   ],
   "source": [
    "import timeit\n",
    "from collections import deque\n",
    "import numpy as np\n",
    "\n",
    "# Parameters\n",
    "num_elements = 1_000_000\n",
    "\n",
    "# Using Python list\n",
    "def using_list():\n",
    "    lst = []\n",
    "    for i in range(num_elements):\n",
    "        lst.append(i)\n",
    "    return lst\n",
    "\n",
    "# Using deque\n",
    "def using_deque():\n",
    "    d = deque()\n",
    "    for i in range(num_elements):\n",
    "        d.append(i)\n",
    "    return d\n",
    "\n",
    "# Using preallocated NumPy array\n",
    "def using_numpy():\n",
    "    arr = np.zeros(num_elements, dtype=int)\n",
    "    for i in range(num_elements):\n",
    "        arr[i] = i\n",
    "    return arr\n",
    "\n",
    "def using_set():\n",
    "    arr = set()\n",
    "    for i in range(num_elements):\n",
    "        arr.add(i)\n",
    "    return arr\n",
    "\n",
    "# Measure the time taken for each method\n",
    "list_time = timeit.timeit(using_list, number=10)\n",
    "deque_time = timeit.timeit(using_deque, number=10)\n",
    "numpy_time = timeit.timeit(using_numpy, number=10)\n",
    "set_time = timeit.timeit(using_set, number=10)\n",
    "\n",
    "print(f\"List time: {list_time:.6f} seconds\")\n",
    "print(f\"Deque time: {deque_time:.6f} seconds\")\n",
    "print(f\"NumPy time: {numpy_time:.6f} seconds\")\n",
    "print(f\"Set time: {set_time:.6f} seconds\")\n"
   ]
  },
  {
   "cell_type": "code",
   "execution_count": 92,
   "metadata": {},
   "outputs": [
    {
     "name": "stdout",
     "output_type": "stream",
     "text": [
      "List time: 6.917812 seconds\n",
      "Deque time: 0.009854 seconds\n",
      "NumPy time: 0.017011 seconds\n",
      "Set time: 0.010244 seconds\n"
     ]
    }
   ],
   "source": [
    "import timeit\n",
    "from collections import deque\n",
    "import numpy as np\n",
    "\n",
    "# Parameters\n",
    "num_elements = 30_000\n",
    "\n",
    "# Using Python list\n",
    "def using_list():\n",
    "    lst = list(range(num_elements))\n",
    "    for i in range(num_elements):\n",
    "        lst.remove(i)\n",
    "    return lst\n",
    "\n",
    "# Using deque\n",
    "def using_deque():\n",
    "    d = deque(range(num_elements))\n",
    "    for i in range(num_elements):\n",
    "        d.remove(i)\n",
    "    return np.array(d)\n",
    "\n",
    "# Using preallocated NumPy array\n",
    "def using_numpy():\n",
    "    arr = np.array(range(num_elements), dtype=int)\n",
    "    for i in range(num_elements):\n",
    "        arr[i] = 0\n",
    "    return arr\n",
    "\n",
    "def using_set():\n",
    "    arr = set(range(num_elements))\n",
    "    for i in range(num_elements):\n",
    "        arr.remove(i)\n",
    "    return arr\n",
    "\n",
    "# Measure the time taken for each method\n",
    "list_time = timeit.timeit(using_list, number=10)\n",
    "deque_time = timeit.timeit(using_deque, number=10)\n",
    "numpy_time = timeit.timeit(using_numpy, number=10)\n",
    "set_time = timeit.timeit(using_set, number=10)\n",
    "\n",
    "print(f\"List time: {list_time:.6f} seconds\")\n",
    "print(f\"Deque time: {deque_time:.6f} seconds\")\n",
    "print(f\"NumPy time: {numpy_time:.6f} seconds\")\n",
    "print(f\"Set time: {set_time:.6f} seconds\")\n"
   ]
  },
  {
   "cell_type": "code",
   "execution_count": 91,
   "metadata": {},
   "outputs": [
    {
     "name": "stdout",
     "output_type": "stream",
     "text": [
      "[[1 0]\n",
      " [1 1]\n",
      " [1 2]\n",
      " [1 3]\n",
      " [2 0]\n",
      " [2 1]\n",
      " [2 2]\n",
      " [2 3]]\n"
     ]
    }
   ],
   "source": [
    "import numpy as np\n",
    "\n",
    "# Define the initial array\n",
    "array = np.array([\n",
    "    [0, 1], [0, 2], [0, 3],\n",
    "    [1, 0], [1, 1], [1, 2], [1, 3],\n",
    "    [2, 0], [2, 1], [2, 2], [2, 3]\n",
    "])\n",
    "\n",
    "# Define the rows to remove\n",
    "rows_to_remove = [[0, 1], [0, 2], [0, 3]]\n",
    "\n",
    "# Filter out the rows\n",
    "filtered_array = np.array([row for row in array if list(row) not in rows_to_remove])\n",
    "\n",
    "print(filtered_array)\n"
   ]
  },
  {
   "cell_type": "code",
   "execution_count": 53,
   "metadata": {},
   "outputs": [
    {
     "data": {
      "text/plain": [
       "array([18,  2, 21, 20, 19,  6,  3, 16, 23, 22, 17,  7, 14, 15])"
      ]
     },
     "execution_count": 53,
     "metadata": {},
     "output_type": "execute_result"
    }
   ],
   "source": [
    "import numpy as np\n",
    "idx = [ 8, 18, 12, 11,  2,  0, 21, 20, 10, 13, 19,  6,  3, 16, 23, 22,  9,  1, 17,  7,  5,  4, 14, 15] \n",
    "remove = [ 0,  1,  4,  5,  8,  9, 10, 11, 12, 13]\n",
    "\n",
    "np.setdiff1d(idx, remove, assume_unique=True)"
   ]
  }
 ],
 "metadata": {
  "kernelspec": {
   "display_name": "Python 3",
   "language": "python",
   "name": "python3"
  },
  "language_info": {
   "codemirror_mode": {
    "name": "ipython",
    "version": 3
   },
   "file_extension": ".py",
   "mimetype": "text/x-python",
   "name": "python",
   "nbconvert_exporter": "python",
   "pygments_lexer": "ipython3",
   "version": "3.11.9"
  }
 },
 "nbformat": 4,
 "nbformat_minor": 2
}

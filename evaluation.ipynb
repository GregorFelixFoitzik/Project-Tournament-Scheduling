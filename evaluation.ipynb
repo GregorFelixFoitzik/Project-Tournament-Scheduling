{
 "cells": [
  {
   "cell_type": "code",
   "execution_count": 1,
   "metadata": {},
   "outputs": [],
   "source": [
    "import pandas as pd\n",
    "import matplotlib.pyplot as plt\n",
    "import seaborn as sns"
   ]
  },
  {
   "cell_type": "code",
   "execution_count": 14,
   "metadata": {},
   "outputs": [],
   "source": [
    "mh_names = [\n",
    "    \"lns\",\n",
    "    \"simulated_annealing\",\n",
    "    \"large_neighborhood_search_simulated_annealing\",\n",
    "    \"tabu_search\",\n",
    "    \"tabu_search_lns\",\n",
    "    \"lns_ts_simulated_annealing\",\n",
    "    # \"vns\": VNS,\n",
    "]"
   ]
  },
  {
   "cell_type": "code",
   "execution_count": 23,
   "metadata": {},
   "outputs": [
    {
     "data": {
      "text/html": [
       "<div>\n",
       "<style scoped>\n",
       "    .dataframe tbody tr th:only-of-type {\n",
       "        vertical-align: middle;\n",
       "    }\n",
       "\n",
       "    .dataframe tbody tr th {\n",
       "        vertical-align: top;\n",
       "    }\n",
       "\n",
       "    .dataframe thead th {\n",
       "        text-align: right;\n",
       "    }\n",
       "</style>\n",
       "<table border=\"1\" class=\"dataframe\">\n",
       "  <thead>\n",
       "    <tr style=\"text-align: right;\">\n",
       "      <th></th>\n",
       "      <th>MetaName</th>\n",
       "      <th>Timeout</th>\n",
       "      <th>AlgoConfig</th>\n",
       "      <th>Parameters</th>\n",
       "      <th>StartSol_Profit</th>\n",
       "      <th>MH_Proft</th>\n",
       "      <th>MH_Time</th>\n",
       "    </tr>\n",
       "  </thead>\n",
       "  <tbody>\n",
       "    <tr>\n",
       "      <th>0</th>\n",
       "      <td>simulated_annealing</td>\n",
       "      <td>{'n': 100, 't': 0.666, 's': 4, 'r': 2, 'p': ar...</td>\n",
       "      <td>30</td>\n",
       "      <td>{'alpha': 0.8, 'epsilon': 0.001, 'neighborhood...</td>\n",
       "      <td>388243</td>\n",
       "      <td>390876</td>\n",
       "      <td>25.046875</td>\n",
       "    </tr>\n",
       "    <tr>\n",
       "      <th>1</th>\n",
       "      <td>simulated_annealing</td>\n",
       "      <td>{'n': 100, 't': 0.666, 's': 4, 'r': 2, 'p': ar...</td>\n",
       "      <td>30</td>\n",
       "      <td>{'alpha': 0.8, 'epsilon': 0.001, 'neighborhood...</td>\n",
       "      <td>388243</td>\n",
       "      <td>388311</td>\n",
       "      <td>23.218750</td>\n",
       "    </tr>\n",
       "    <tr>\n",
       "      <th>2</th>\n",
       "      <td>simulated_annealing</td>\n",
       "      <td>{'n': 100, 't': 0.666, 's': 4, 'r': 2, 'p': ar...</td>\n",
       "      <td>30</td>\n",
       "      <td>{'alpha': 0.8, 'epsilon': 0.0001, 'neighborhoo...</td>\n",
       "      <td>388243</td>\n",
       "      <td>391839</td>\n",
       "      <td>24.859375</td>\n",
       "    </tr>\n",
       "    <tr>\n",
       "      <th>3</th>\n",
       "      <td>simulated_annealing</td>\n",
       "      <td>{'n': 100, 't': 0.666, 's': 4, 'r': 2, 'p': ar...</td>\n",
       "      <td>30</td>\n",
       "      <td>{'alpha': 0.8, 'epsilon': 0.001, 'neighborhood...</td>\n",
       "      <td>388783</td>\n",
       "      <td>393620</td>\n",
       "      <td>25.125000</td>\n",
       "    </tr>\n",
       "    <tr>\n",
       "      <th>4</th>\n",
       "      <td>simulated_annealing</td>\n",
       "      <td>{'n': 100, 't': 0.666, 's': 4, 'r': 2, 'p': ar...</td>\n",
       "      <td>30</td>\n",
       "      <td>{'alpha': 0.8, 'epsilon': 0.001, 'neighborhood...</td>\n",
       "      <td>388783</td>\n",
       "      <td>388783</td>\n",
       "      <td>23.312500</td>\n",
       "    </tr>\n",
       "    <tr>\n",
       "      <th>5</th>\n",
       "      <td>simulated_annealing</td>\n",
       "      <td>{'n': 100, 't': 0.666, 's': 4, 'r': 2, 'p': ar...</td>\n",
       "      <td>30</td>\n",
       "      <td>{'alpha': 0.8, 'epsilon': 0.0001, 'neighborhoo...</td>\n",
       "      <td>388783</td>\n",
       "      <td>392179</td>\n",
       "      <td>24.890625</td>\n",
       "    </tr>\n",
       "    <tr>\n",
       "      <th>6</th>\n",
       "      <td>simulated_annealing</td>\n",
       "      <td>{'n': 100, 't': 0.666, 's': 4, 'r': 2, 'p': ar...</td>\n",
       "      <td>30</td>\n",
       "      <td>{'alpha': 0.8, 'epsilon': 0.001, 'neighborhood...</td>\n",
       "      <td>388154</td>\n",
       "      <td>392651</td>\n",
       "      <td>24.984375</td>\n",
       "    </tr>\n",
       "    <tr>\n",
       "      <th>7</th>\n",
       "      <td>simulated_annealing</td>\n",
       "      <td>{'n': 100, 't': 0.666, 's': 4, 'r': 2, 'p': ar...</td>\n",
       "      <td>30</td>\n",
       "      <td>{'alpha': 0.8, 'epsilon': 0.001, 'neighborhood...</td>\n",
       "      <td>388154</td>\n",
       "      <td>388273</td>\n",
       "      <td>23.312500</td>\n",
       "    </tr>\n",
       "    <tr>\n",
       "      <th>8</th>\n",
       "      <td>simulated_annealing</td>\n",
       "      <td>{'n': 100, 't': 0.666, 's': 4, 'r': 2, 'p': ar...</td>\n",
       "      <td>30</td>\n",
       "      <td>{'alpha': 0.8, 'epsilon': 0.0001, 'neighborhoo...</td>\n",
       "      <td>388154</td>\n",
       "      <td>395049</td>\n",
       "      <td>25.281250</td>\n",
       "    </tr>\n",
       "  </tbody>\n",
       "</table>\n",
       "</div>"
      ],
      "text/plain": [
       "              MetaName                                            Timeout  \\\n",
       "0  simulated_annealing  {'n': 100, 't': 0.666, 's': 4, 'r': 2, 'p': ar...   \n",
       "1  simulated_annealing  {'n': 100, 't': 0.666, 's': 4, 'r': 2, 'p': ar...   \n",
       "2  simulated_annealing  {'n': 100, 't': 0.666, 's': 4, 'r': 2, 'p': ar...   \n",
       "3  simulated_annealing  {'n': 100, 't': 0.666, 's': 4, 'r': 2, 'p': ar...   \n",
       "4  simulated_annealing  {'n': 100, 't': 0.666, 's': 4, 'r': 2, 'p': ar...   \n",
       "5  simulated_annealing  {'n': 100, 't': 0.666, 's': 4, 'r': 2, 'p': ar...   \n",
       "6  simulated_annealing  {'n': 100, 't': 0.666, 's': 4, 'r': 2, 'p': ar...   \n",
       "7  simulated_annealing  {'n': 100, 't': 0.666, 's': 4, 'r': 2, 'p': ar...   \n",
       "8  simulated_annealing  {'n': 100, 't': 0.666, 's': 4, 'r': 2, 'p': ar...   \n",
       "\n",
       "   AlgoConfig                                         Parameters  \\\n",
       "0          30  {'alpha': 0.8, 'epsilon': 0.001, 'neighborhood...   \n",
       "1          30  {'alpha': 0.8, 'epsilon': 0.001, 'neighborhood...   \n",
       "2          30  {'alpha': 0.8, 'epsilon': 0.0001, 'neighborhoo...   \n",
       "3          30  {'alpha': 0.8, 'epsilon': 0.001, 'neighborhood...   \n",
       "4          30  {'alpha': 0.8, 'epsilon': 0.001, 'neighborhood...   \n",
       "5          30  {'alpha': 0.8, 'epsilon': 0.0001, 'neighborhoo...   \n",
       "6          30  {'alpha': 0.8, 'epsilon': 0.001, 'neighborhood...   \n",
       "7          30  {'alpha': 0.8, 'epsilon': 0.001, 'neighborhood...   \n",
       "8          30  {'alpha': 0.8, 'epsilon': 0.0001, 'neighborhoo...   \n",
       "\n",
       "   StartSol_Profit  MH_Proft    MH_Time  \n",
       "0           388243    390876  25.046875  \n",
       "1           388243    388311  23.218750  \n",
       "2           388243    391839  24.859375  \n",
       "3           388783    393620  25.125000  \n",
       "4           388783    388783  23.312500  \n",
       "5           388783    392179  24.890625  \n",
       "6           388154    392651  24.984375  \n",
       "7           388154    388273  23.312500  \n",
       "8           388154    395049  25.281250  "
      ]
     },
     "execution_count": 23,
     "metadata": {},
     "output_type": "execute_result"
    }
   ],
   "source": [
    "all_runs = pd.read_csv(\n",
    "    'artifacts\\evaluations_first_run.csv',\n",
    "    names=[\"MetaName\", \"AlgoConfig\", \"Timeout\", \"Parameters\", \"StartSol_Profit\", \"MH_Proft\", \"MH_Time\"]\n",
    ")\n",
    "\n",
    "\n",
    "all_runs"
   ]
  },
  {
   "cell_type": "code",
   "execution_count": 6,
   "metadata": {},
   "outputs": [
    {
     "data": {
      "text/plain": [
       "97"
      ]
     },
     "execution_count": 6,
     "metadata": {},
     "output_type": "execute_result"
    }
   ],
   "source": [
    "import os \n",
    "\n",
    "len([f for f in os.listdir('configs/') if f.endswith('.yaml')])"
   ]
  },
  {
   "cell_type": "code",
   "execution_count": 15,
   "metadata": {},
   "outputs": [
    {
     "name": "stderr",
     "output_type": "stream",
     "text": [
      "\n",
      "i:   0%|\u001b[32m                                                 \u001b[0m| 0/5 [00:00<?, ?it/s]\u001b[0m\n",
      "i:  20%|\u001b[32m████████▏                                \u001b[0m| 1/5 [00:01<00:04,  1.02s/it]\u001b[0m\n",
      "i:  40%|\u001b[32m████████████████▍                        \u001b[0m| 2/5 [00:02<00:03,  1.02s/it]\u001b[0m\n",
      "i:  60%|\u001b[32m████████████████████████▌                \u001b[0m| 3/5 [00:03<00:02,  1.02s/it]\u001b[0m\n",
      "i:  80%|\u001b[32m████████████████████████████████▊        \u001b[0m| 4/5 [00:04<00:01,  1.02s/it]\u001b[0m\n",
      "i: 100%|\u001b[32m█████████████████████████████████████████\u001b[0m| 5/5 [00:05<00:00,  1.02s/it]\u001b[0m\n",
      "i: 100%|\u001b[32m█████████████████████████████████████████\u001b[0m| 5/5 [00:05<00:00,  1.02s/it]\u001b[0m\n"
     ]
    }
   ],
   "source": [
    "from tqdm import tqdm\n",
    "import time\n",
    "\n",
    "for i in tqdm(range(5), position=0, desc=\"\\ni\", leave=True, colour='green', ncols=80):\n",
    "    for j in tqdm(range(10), position=1, desc=\"j\", leave=False, colour='red', ncols=80):\n",
    "        time.sleep(0.1)"
   ]
  }
 ],
 "metadata": {
  "kernelspec": {
   "display_name": "Python 3",
   "language": "python",
   "name": "python3"
  },
  "language_info": {
   "codemirror_mode": {
    "name": "ipython",
    "version": 3
   },
   "file_extension": ".py",
   "mimetype": "text/x-python",
   "name": "python",
   "nbconvert_exporter": "python",
   "pygments_lexer": "ipython3",
   "version": "3.11.9"
  }
 },
 "nbformat": 4,
 "nbformat_minor": 2
}

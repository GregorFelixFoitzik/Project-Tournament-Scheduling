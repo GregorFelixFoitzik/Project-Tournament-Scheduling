{
 "cells": [
  {
   "cell_type": "code",
   "execution_count": 5,
   "metadata": {},
   "outputs": [],
   "source": [
    "import numpy as np"
   ]
  },
  {
   "cell_type": "code",
   "execution_count": 38,
   "metadata": {},
   "outputs": [
    {
     "data": {
      "text/plain": [
       "(3, 10, 3, 2)"
      ]
     },
     "execution_count": 38,
     "metadata": {},
     "output_type": "execute_result"
    }
   ],
   "source": [
    "n = 6\n",
    "np.zeros( (3, 2*(n - 1), n//2, 2) ).shape"
   ]
  },
  {
   "cell_type": "code",
   "execution_count": 56,
   "metadata": {},
   "outputs": [
    {
     "name": "stdout",
     "output_type": "stream",
     "text": [
      "Block 1:\n",
      "+--------+--------+--------+--------+--------+\n",
      "| 0 vs 0 | 0 vs 0 | 0 vs 0 | 0 vs 0 | 0 vs 0 |\n",
      "+--------+--------+--------+--------+--------+\n",
      "| 0 vs 0 | 0 vs 0 | 0 vs 0 | 0 vs 0 | 0 vs 0 |\n",
      "+--------+--------+--------+--------+--------+\n",
      "| 0 vs 0 | 0 vs 0 | 0 vs 0 | 0 vs 0 | 0 vs 0 |\n",
      "+--------+--------+--------+--------+--------+\n",
      "| 0 vs 0 | 0 vs 0 | 0 vs 0 | 0 vs 0 | 0 vs 0 |\n",
      "+--------+--------+--------+--------+--------+\n",
      "| 0 vs 0 | 0 vs 0 | 0 vs 0 | 0 vs 0 | 0 vs 0 |\n",
      "+--------+--------+--------+--------+--------+\n",
      "| 0 vs 0 | 0 vs 0 | 0 vs 0 | 0 vs 0 | 0 vs 0 |\n",
      "+--------+--------+--------+--------+--------+\n",
      "| 0 vs 0 | 0 vs 0 | 0 vs 0 | 0 vs 0 | 0 vs 0 |\n",
      "+--------+--------+--------+--------+--------+\n",
      "| 0 vs 0 | 0 vs 0 | 0 vs 0 | 0 vs 0 | 0 vs 0 |\n",
      "+--------+--------+--------+--------+--------+\n",
      "| 0 vs 0 | 0 vs 0 | 0 vs 0 | 0 vs 0 | 0 vs 0 |\n",
      "+--------+--------+--------+--------+--------+\n",
      "| 0 vs 0 | 0 vs 0 | 0 vs 0 | 0 vs 0 | 0 vs 0 |\n",
      "+--------+--------+--------+--------+--------+\n",
      "\n",
      "\n",
      "Block 2:\n",
      "+--------+--------+--------+--------+--------+\n",
      "| 0 vs 0 | 0 vs 0 | 0 vs 0 | 0 vs 0 | 0 vs 0 |\n",
      "+--------+--------+--------+--------+--------+\n",
      "| 0 vs 0 | 0 vs 0 | 0 vs 0 | 0 vs 0 | 0 vs 0 |\n",
      "+--------+--------+--------+--------+--------+\n",
      "| 0 vs 0 | 0 vs 0 | 0 vs 0 | 0 vs 0 | 0 vs 0 |\n",
      "+--------+--------+--------+--------+--------+\n",
      "| 0 vs 0 | 0 vs 0 | 0 vs 0 | 0 vs 0 | 0 vs 0 |\n",
      "+--------+--------+--------+--------+--------+\n",
      "| 0 vs 0 | 0 vs 0 | 0 vs 0 | 0 vs 0 | 0 vs 0 |\n",
      "+--------+--------+--------+--------+--------+\n",
      "| 0 vs 0 | 0 vs 0 | 0 vs 0 | 0 vs 0 | 0 vs 0 |\n",
      "+--------+--------+--------+--------+--------+\n",
      "| 0 vs 0 | 0 vs 0 | 0 vs 0 | 0 vs 0 | 0 vs 0 |\n",
      "+--------+--------+--------+--------+--------+\n",
      "| 0 vs 0 | 0 vs 0 | 0 vs 0 | 0 vs 0 | 0 vs 0 |\n",
      "+--------+--------+--------+--------+--------+\n",
      "| 0 vs 0 | 0 vs 0 | 0 vs 0 | 0 vs 0 | 0 vs 0 |\n",
      "+--------+--------+--------+--------+--------+\n",
      "| 0 vs 0 | 0 vs 0 | 0 vs 0 | 0 vs 0 | 0 vs 0 |\n",
      "+--------+--------+--------+--------+--------+\n",
      "\n",
      "\n",
      "Block 3:\n",
      "+--------+--------+--------+--------+--------+\n",
      "| 0 vs 0 | 0 vs 0 | 0 vs 0 | 0 vs 0 | 0 vs 0 |\n",
      "+--------+--------+--------+--------+--------+\n",
      "| 0 vs 0 | 0 vs 0 | 0 vs 0 | 0 vs 0 | 0 vs 0 |\n",
      "+--------+--------+--------+--------+--------+\n",
      "| 0 vs 0 | 0 vs 0 | 0 vs 0 | 0 vs 0 | 0 vs 0 |\n",
      "+--------+--------+--------+--------+--------+\n",
      "| 0 vs 0 | 0 vs 0 | 0 vs 0 | 0 vs 0 | 0 vs 0 |\n",
      "+--------+--------+--------+--------+--------+\n",
      "| 0 vs 0 | 0 vs 0 | 0 vs 0 | 0 vs 0 | 0 vs 0 |\n",
      "+--------+--------+--------+--------+--------+\n",
      "| 0 vs 0 | 0 vs 0 | 0 vs 0 | 0 vs 0 | 0 vs 0 |\n",
      "+--------+--------+--------+--------+--------+\n",
      "| 0 vs 0 | 0 vs 0 | 0 vs 0 | 0 vs 0 | 0 vs 0 |\n",
      "+--------+--------+--------+--------+--------+\n",
      "| 0 vs 0 | 0 vs 0 | 0 vs 0 | 0 vs 0 | 0 vs 0 |\n",
      "+--------+--------+--------+--------+--------+\n",
      "| 0 vs 0 | 0 vs 0 | 0 vs 0 | 0 vs 0 | 0 vs 0 |\n",
      "+--------+--------+--------+--------+--------+\n",
      "| 0 vs 0 | 0 vs 0 | 0 vs 0 | 0 vs 0 | 0 vs 0 |\n",
      "+--------+--------+--------+--------+--------+\n",
      "\n",
      "\n"
     ]
    }
   ],
   "source": [
    "import numpy as np\n",
    "from tabulate import tabulate\n",
    "\n",
    "# Create an example array with shape (3, 10, 5, 2)\n",
    "example_array = np.zeros( (3, 10, 5, 2), dtype=int )\n",
    "\n",
    "# Convert the last dimension to strings and concatenate\n",
    "formatted_array = np.apply_along_axis(lambda x: ' vs '.join(map(str, x)), 3, example_array)\n",
    "\n",
    "# Print the formatted array using tabulate\n",
    "for i in range(formatted_array.shape[0]):\n",
    "    print(f\"Block {i + 1}:\")\n",
    "    print(tabulate(formatted_array[i], tablefmt=\"grid\"))\n",
    "    print(\"\\n\")"
   ]
  },
  {
   "cell_type": "code",
   "execution_count": 48,
   "metadata": {},
   "outputs": [
    {
     "data": {
      "text/plain": [
       "3"
      ]
     },
     "execution_count": 48,
     "metadata": {},
     "output_type": "execute_result"
    }
   ],
   "source": [
    "6//2"
   ]
  }
 ],
 "metadata": {
  "kernelspec": {
   "display_name": "Python 3",
   "language": "python",
   "name": "python3"
  },
  "language_info": {
   "codemirror_mode": {
    "name": "ipython",
    "version": 3
   },
   "file_extension": ".py",
   "mimetype": "text/x-python",
   "name": "python",
   "nbconvert_exporter": "python",
   "pygments_lexer": "ipython3",
   "version": "3.11.9"
  }
 },
 "nbformat": 4,
 "nbformat_minor": 2
}
